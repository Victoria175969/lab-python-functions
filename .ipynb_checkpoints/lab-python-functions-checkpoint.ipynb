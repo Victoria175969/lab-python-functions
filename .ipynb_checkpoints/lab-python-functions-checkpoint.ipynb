{
 "cells": [
  {
   "cell_type": "markdown",
   "id": "25d7736c-ba17-4aff-b6bb-66eba20fbf4e",
   "metadata": {},
   "source": [
    "# Lab | Functions"
   ]
  },
  {
   "cell_type": "markdown",
   "id": "0c581062-8967-4d93-b06e-62833222f930",
   "metadata": {
    "tags": []
   },
   "source": [
    "## Exercise: Managing Customer Orders with Functions\n",
    "\n",
    "In the previous exercise, you improved the code for managing customer orders by using loops and flow control. Now, let's take it a step further and refactor the code by introducing functions.\n",
    "\n",
    "Follow the steps below to complete the exercise:\n",
    "\n",
    "1. Define a function named `initialize_inventory` that takes `products` as a parameter. Inside the function, implement the code for initializing the inventory dictionary using a loop and user input.\n",
    "\n",
    "2. Define a function named `get_customer_orders` that takes no parameters. Inside the function, implement the code for prompting the user to enter the product names using a loop. The function should return the `customer_orders` set.\n",
    "\n",
    "3. Define a function named `update_inventory` that takes `customer_orders` and `inventory` as parameters. Inside the function, implement the code for updating the inventory dictionary based on the customer orders.\n",
    "\n",
    "4. Define a function named `calculate_order_statistics` that takes `customer_orders` and `products` as parameters. Inside the function, implement the code for calculating the order statistics (total products ordered, and percentage of unique products ordered). The function should return these values.\n",
    "\n",
    "5. Define a function named `print_order_statistics` that takes `order_statistics` as a parameter. Inside the function, implement the code for printing the order statistics.\n",
    "\n",
    "6. Define a function named `print_updated_inventory` that takes `inventory` as a parameter. Inside the function, implement the code for printing the updated inventory.\n",
    "\n",
    "7. Call the functions in the appropriate sequence to execute the program and manage customer orders.\n",
    "\n",
    "Hints for functions:\n",
    "\n",
    "- Consider the input parameters required for each function and their return values.\n",
    "- Utilize function parameters and return values to transfer data between functions.\n",
    "- Test your functions individually to ensure they work correctly.\n",
    "\n",
    "\n"
   ]
  },
  {
   "cell_type": "code",
   "execution_count": 39,
   "id": "325ad9c9-cf30-4dc1-8cbe-27088dccfcc3",
   "metadata": {},
   "outputs": [
    {
     "name": "stdin",
     "output_type": "stream",
     "text": [
      "Please input the quantity of t-shirts:  10\n",
      "Please input the quantity of mugs:  10\n",
      "Please input the quantity of hats:  10\n",
      "Please input the quantity of books:  10\n",
      "Please input the quantity of keychains:  10\n"
     ]
    },
    {
     "name": "stdout",
     "output_type": "stream",
     "text": [
      "{'t-shirt': 10, 'mug': 10, 'hat': 10, 'book': 10, 'keychain': 10}\n"
     ]
    },
    {
     "name": "stdin",
     "output_type": "stream",
     "text": [
      "Please enter the name of the product you would like to purchase:  mug\n",
      "Do you want to add another product?: yes\n",
      "Please enter the name of the product you would like to purchase:  mug\n",
      "Do you want to add another product?:  no\n"
     ]
    },
    {
     "name": "stdout",
     "output_type": "stream",
     "text": [
      "Thank you for your order!\n",
      "{'mug'}\n",
      "{'t-shirt': 10, 'mug': 9, 'hat': 10, 'book': 10, 'keychain': 10}\n"
     ]
    }
   ],
   "source": [
    "products = [\"t-shirt\", \"mug\", \"hat\", \"book\", \"keychain\"]\n",
    "inventory = {}\n",
    "\n",
    "for item in products:\n",
    "    quantity = int(input(f\"Please input the quantity of {item}s: \"))  \n",
    "    inventory[item] = quantity \n",
    "    \n",
    "print(inventory)\n",
    "\n",
    "customer_orders = set()\n",
    "\n",
    "item = input(\"Please enter the name of the product you would like to purchase: \")\n",
    "\n",
    "customer_orders.add(item)\n",
    "\n",
    "reply = input(\"Do you want to add another product?:\")\n",
    "\n",
    "while reply == \"yes\":\n",
    "    item = input(\"Please enter the name of the product you would like to purchase: \")\n",
    "    customer_orders.add(item)\n",
    "    reply = input(\"Do you want to add another product?: \")\n",
    "    \n",
    "    \n",
    "if reply == \"no\":\n",
    "    print(\"Thank you for your order!\")\n",
    "else:\n",
    "    print(\"Invalid input\")\n",
    "\n",
    "for item in customer_orders:\n",
    "   inventory[item] -= 1\n",
    "    \n",
    "\n",
    "print(customer_orders)\n",
    "print(inventory)\n",
    "\n"
   ]
  },
  {
   "cell_type": "code",
   "execution_count": 49,
   "id": "886689d4-7b35-42a8-a252-1fa3a68a6c95",
   "metadata": {},
   "outputs": [
    {
     "name": "stdin",
     "output_type": "stream",
     "text": [
      "Please input the quantity of t-shirts:  2\n",
      "Please input the quantity of mugs:  2\n",
      "Please input the quantity of hats:  2\n",
      "Please input the quantity of books:  2\n",
      "Please input the quantity of keychains:  2\n",
      "Please enter the name of the product you would like to purchase:  mug\n",
      "Do you want to add another product?: yes\n",
      "Please enter the name of the product you would like to purchase:  hat\n",
      "Do you want to add another product?:  yes\n",
      "Please enter the name of the product you would like to purchase:  book\n",
      "Do you want to add another product?:  yes\n",
      "Please enter the name of the product you would like to purchase:  keychain\n",
      "Do you want to add another product?:  no\n"
     ]
    },
    {
     "name": "stdout",
     "output_type": "stream",
     "text": [
      "Thank you for your order!\n",
      "Total products ordered: 4\n",
      "Percentage of products ordered: 80.0\n",
      "Updated inventory: {'t-shirt': 2, 'mug': 1, 'hat': 1, 'book': 1, 'keychain': 1}\n"
     ]
    }
   ],
   "source": [
    "def initialize_inventory (products):\n",
    "    inventory = {}\n",
    "    for item in products:\n",
    "        quantity = int(input(f\"Please input the quantity of {item}s: \"))  \n",
    "        inventory[item] = quantity \n",
    "    return inventory\n",
    "\n",
    "def get_customer_orders():\n",
    "    customer_orders = set()\n",
    "    item = input(\"Please enter the name of the product you would like to purchase: \")\n",
    "    customer_orders.add(item)\n",
    "    reply = input(\"Do you want to add another product?:\")\n",
    "\n",
    "    while reply == \"yes\":\n",
    "        item = input(\"Please enter the name of the product you would like to purchase: \")\n",
    "        customer_orders.add(item)\n",
    "        reply = input(\"Do you want to add another product?: \")\n",
    "    \n",
    "    if reply == \"no\":\n",
    "        print(\"Thank you for your order!\")\n",
    "    else:\n",
    "        print(\"Invalid input\")\n",
    "    return customer_orders\n",
    "\n",
    "def update_inventory(customer_orders, inventory):\n",
    "    for item in customer_orders:\n",
    "        inventory[item] -= 1\n",
    "    return inventory\n",
    "\n",
    "def calculate_order_statistics(customer_orders, products):\n",
    "    return [len(customer_orders), len(customer_orders) / len(products) * 100]\n",
    "\n",
    "def print_order_statistics(order_statistics):\n",
    "    print(f\"Total products ordered: {order_statistics[0]}\\nPercentage of products ordered: {order_statistics[1]}\")\n",
    "\n",
    "def print_updated_inventory(inventory):\n",
    "    print(f\"Updated inventory: {inventory}\")\n",
    "\n",
    "products = [\"t-shirt\", \"mug\", \"hat\", \"book\", \"keychain\"]\n",
    "\n",
    "inventory = initialize_inventory(products)\n",
    "customer_orders = get_customer_orders()\n",
    "updated_inventory = update_inventory(customer_orders, inventory)\n",
    "order_statistics = calculate_order_statistics(customer_orders, products)\n",
    "\n",
    "print_order_statistics(order_statistics)\n",
    "print_updated_inventory(updated_inventory)\n",
    "    "
   ]
  },
  {
   "cell_type": "code",
   "execution_count": null,
   "id": "f7039409-2695-4ec3-a6cc-43f47779ef99",
   "metadata": {},
   "outputs": [],
   "source": []
  }
 ],
 "metadata": {
  "kernelspec": {
   "display_name": "Python 3 (ipykernel)",
   "language": "python",
   "name": "python3"
  },
  "language_info": {
   "codemirror_mode": {
    "name": "ipython",
    "version": 3
   },
   "file_extension": ".py",
   "mimetype": "text/x-python",
   "name": "python",
   "nbconvert_exporter": "python",
   "pygments_lexer": "ipython3",
   "version": "3.12.3"
  }
 },
 "nbformat": 4,
 "nbformat_minor": 5
}
